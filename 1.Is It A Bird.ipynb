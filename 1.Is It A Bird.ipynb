{
 "cells": [
  {
   "cell_type": "code",
   "execution_count": 5,
   "id": "f3987c4a-9cb2-4a4c-80cf-6b8ac4678c75",
   "metadata": {
    "execution": {
     "iopub.execute_input": "2024-11-05T10:36:37.895536Z",
     "iopub.status.busy": "2024-11-05T10:36:37.895157Z",
     "iopub.status.idle": "2024-11-05T10:36:44.838003Z",
     "shell.execute_reply": "2024-11-05T10:36:44.836760Z",
     "shell.execute_reply.started": "2024-11-05T10:36:37.895489Z"
    }
   },
   "outputs": [],
   "source": [
    "!pip install -Uqq fastai"
   ]
  },
  {
   "cell_type": "code",
   "execution_count": 6,
   "id": "dcf4024e-b1d3-4619-9ff3-ffeadc3debed",
   "metadata": {
    "execution": {
     "iopub.execute_input": "2024-11-05T10:37:06.612657Z",
     "iopub.status.busy": "2024-11-05T10:37:06.612298Z",
     "iopub.status.idle": "2024-11-05T10:37:06.623128Z",
     "shell.execute_reply": "2024-11-05T10:37:06.622119Z",
     "shell.execute_reply.started": "2024-11-05T10:37:06.612630Z"
    }
   },
   "outputs": [],
   "source": [
    "from fastai import *"
   ]
  },
  {
   "cell_type": "code",
   "execution_count": null,
   "id": "67956c7d-df16-4608-8963-ff68abe9fb5a",
   "metadata": {},
   "outputs": [],
   "source": []
  }
 ],
 "metadata": {
  "kernelspec": {
   "display_name": "Python 3 (ipykernel)",
   "language": "python",
   "name": "python3"
  },
  "language_info": {
   "codemirror_mode": {
    "name": "ipython",
    "version": 3
   },
   "file_extension": ".py",
   "mimetype": "text/x-python",
   "name": "python",
   "nbconvert_exporter": "python",
   "pygments_lexer": "ipython3",
   "version": "3.11.7"
  }
 },
 "nbformat": 4,
 "nbformat_minor": 5
}
